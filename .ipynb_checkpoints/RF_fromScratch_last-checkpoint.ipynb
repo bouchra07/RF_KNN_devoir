{
 "cells": [
  {
   "cell_type": "code",
   "execution_count": 1,
   "metadata": {
    "colab": {},
    "colab_type": "code",
    "id": "fhNw7zerHdnJ"
   },
   "outputs": [],
   "source": [
    "from random import seed\n",
    "from random import randrange\n",
    "from csv import reader\n",
    "from math import sqrt"
   ]
  },
  {
   "cell_type": "code",
   "execution_count": 19,
   "metadata": {},
   "outputs": [],
   "source": [
    "# Chargement de fichier CSV\n",
    "def load_csv(filename):\n",
    "    dataset = list()\n",
    "    with open(filename, 'r') as file:\n",
    "        csv_reader = reader(file)\n",
    "        for row in csv_reader:\n",
    "            if not row:\n",
    "                continue\n",
    "            dataset.append(row[::-1])\n",
    "    return dataset"
   ]
  },
  {
   "cell_type": "code",
   "execution_count": 3,
   "metadata": {},
   "outputs": [],
   "source": [
    "# Convertir colonne string en float\n",
    "def str_column_to_float(dataset, column):\n",
    "    for row in dataset:\n",
    "        row[column] = float(row[column].strip())"
   ]
  },
  {
   "cell_type": "code",
   "execution_count": 4,
   "metadata": {},
   "outputs": [],
   "source": [
    "# Convertir colonne string a int\n",
    "def str_column_to_int(dataset,testData, column):\n",
    "  class_values = [row[column] for row in dataset]\n",
    "  unique = set(class_values)\n",
    "  lookup = dict()\n",
    "  for i, value in enumerate(unique):\n",
    "    lookup[value] = i\n",
    "  for row in dataset:\n",
    "    row[column] = lookup[row[column]]\n",
    "  for row in testData:\n",
    "    row[column] = lookup[row[column]]\n",
    "  return lookup"
   ]
  },
  {
   "cell_type": "code",
   "execution_count": 5,
   "metadata": {},
   "outputs": [],
   "source": [
    "# Calculate accuracy percentage\n",
    "def accuracy_metric(actual, predicted):\n",
    "    correct = 0\n",
    "    for i in range(len(actual)):\n",
    "        if actual[i] == predicted[i]:\n",
    "            correct += 1\n",
    "    return correct / float(len(actual)) * 100.0"
   ]
  },
  {
   "cell_type": "code",
   "execution_count": 6,
   "metadata": {},
   "outputs": [],
   "source": [
    "#Calcule du pourcentage d'accuracy\n",
    "def evaluate_algorithm(train_set,test_set, algorithm, *args):\n",
    "  scores = list()\n",
    "  # print(\"Train data size: \",len(train_set))\n",
    "  # print(\"Test data size:\", len(test_set))\n",
    "  predicted = algorithm(train_set, test_set, *args)\n",
    "  # actual = [row[-1] for row in fold]\n",
    "  actual = [row[-1] for row in test_set]\n",
    "  accuracy = accuracy_metric(actual, predicted)\n",
    "  scores.append(accuracy)\n",
    "  return accuracy"
   ]
  },
  {
   "cell_type": "code",
   "execution_count": 7,
   "metadata": {},
   "outputs": [],
   "source": [
    "# split de  data basant sur un attribut et une valeur d'attribut\n",
    "#seperating dataset into two lists of rows then we use the gini score we got\n",
    "#given index of an attribute and value for that attribute\n",
    "def test_split(index, value, dataset):\n",
    "    left, right = list(), list()\n",
    "    #we itterate over each row to check if attribut value is above or below split value and assigining it to left or right group\n",
    "    for row in dataset:\n",
    "        if row[index] < value:\n",
    "            left.append(row)\n",
    "        else:\n",
    "            right.append(row)#index above or equal to split value\n",
    "    return left, right\n",
    "#basically we give index of an attribute and the value of the split then we iterate on each row to check if it's above or below\n",
    "#the split value then we assign to left or tight of the node"
   ]
  },
  {
   "cell_type": "code",
   "execution_count": 8,
   "metadata": {},
   "outputs": [],
   "source": [
    "#calcule de gini index pour une dataset deja divisé\n",
    "#to evaluate split in dataset\n",
    "#best 0 worst 1\n",
    "def gini_index(groups, classes):\n",
    "    #  calcule de tous les echantillons dans une point de divisions\n",
    "    n_instances = float(sum([len(group) for group in groups]))\n",
    "    #some de weighted(by size of grp) gini pour chaque groupe\n",
    "    #gini(grp1) = (1-(p^2 + p^2.....))*grp size/total_samples\n",
    "    gini = 0.0\n",
    "    for group in groups:\n",
    "        size = float(len(group))\n",
    "        # avoid divide by zero\n",
    "        if size == 0:\n",
    "            continue\n",
    "        score = 0.0\n",
    "        # score the group based on the score for each class\n",
    "        for class_val in classes:\n",
    "            p = [row[-1] for row in group].count(class_val) / size\n",
    "            score += p * p\n",
    "        # weight the group score by its relative size\n",
    "         #scores added across each child node to give a final gini score for the split point \n",
    "         #that can be compared to other candidate split points\n",
    "        gini += (1.0 - score) * (size / n_instances)\n",
    "    return gini"
   ]
  },
  {
   "cell_type": "code",
   "execution_count": 24,
   "metadata": {},
   "outputs": [
    {
     "name": "stdout",
     "output_type": "stream",
     "text": [
      "0.5\n",
      "0.0\n"
     ]
    }
   ],
   "source": [
    "#test gini\n",
    "print(gini_index([[[1,1,2],[1,1,1]],[[1,1,0],[1,0,2]]],[0,1,2]))\n",
    "print(gini_index([[[1,0],[1,0]],[[1,1],[1,1]]],[0,1]))"
   ]
  },
  {
   "cell_type": "code",
   "execution_count": 9,
   "metadata": {},
   "outputs": [],
   "source": [
    "#selectionment de la meilleur point de division pour une dataset\n",
    "# we use a dictionary to represent a node in the decision tree\n",
    "\n",
    "#afer selecting best split and using it as a new node for the tree we will store the index of chosen attribute, value of split\n",
    "#+ groups (left and right)\n",
    "def get_split(dataset, n_features):\n",
    "    class_values = list(set(row[-1] for row in dataset))\n",
    "    b_index, b_value, b_score, b_groups = 999, 999, 999, None\n",
    "    features = list()\n",
    " #iterates over each feature except class feature, then for each attribute spliting an evaluating splits as it goes\n",
    "    while len(features) < n_features:\n",
    "        index = randrange(len(dataset[0])-1) #random from range of the length of our dataset features\n",
    "        if index not in features:\n",
    "            features.append(index)\n",
    "    for index in features:\n",
    "        for row in dataset:\n",
    "            groups = test_split(index, row[index], dataset)\n",
    "            gini = gini_index(groups, class_values)\n",
    "            if gini < b_score:\n",
    "                b_index, b_value, b_score, b_groups = index, row[index], gini, groups\n",
    "    return {'index':b_index, 'value':b_value, 'groups':b_groups}"
   ]
  },
  {
   "cell_type": "code",
   "execution_count": null,
   "metadata": {},
   "outputs": [],
   "source": [
    "#Building trees\n",
    "#1-terminal nodes\n",
    "#2-recursive plitting\n",
    "#3-building tree"
   ]
  },
  {
   "cell_type": "code",
   "execution_count": 10,
   "metadata": {},
   "outputs": [],
   "source": [
    "#creation d'une valeur de feuille\n",
    "#used for final predictions\n",
    "#returns most comon output value (class) in a list of rows\n",
    "def to_terminal(group):\n",
    "    outcomes = [row[-1] for row in group]\n",
    "    return max(set(outcomes), key=outcomes.count)"
   ]
  },
  {
   "cell_type": "code",
   "execution_count": 11,
   "metadata": {},
   "outputs": [],
   "source": [
    "#creation de division enfants pour une noeud ou creation d'une feuille\n",
    "\n",
    "def split(node, max_depth, min_size, n_features, depth):\n",
    "#first the two groups are extracted for use and deleted from the node\n",
    "#the node no longer requires access to these data \n",
    "#but we still work with them\n",
    "    left, right = node['groups']\n",
    "    del(node['groups'])\n",
    "    # check if either left or right are empty  to create terminal node\n",
    "    if not left or not right:\n",
    "        node['left'] = node['right'] = to_terminal(left + right)\n",
    "        return\n",
    "    # check if we reached out mac depth if so we create terminal node\n",
    "    if depth >= max_depth:\n",
    "        node['left'], node['right'] = to_terminal(left), to_terminal(right)\n",
    "        return\n",
    "    # process left child\n",
    "    #create a terminal node if the grp of rows is too small\n",
    "    if len(left) <= min_size:\n",
    "        node['left'] = to_terminal(left)\n",
    "    #otherwise creating and adding the left node in a depth untill bottom of tree is reached\n",
    "    else:\n",
    "        node['left'] = get_split(left, n_features)\n",
    "        split(node['left'], max_depth, min_size, n_features, depth+1)\n",
    "    # process right child \n",
    "    #same manner as left child\n",
    "    if len(right) <= min_size:\n",
    "        node['right'] = to_terminal(right)\n",
    "    else:\n",
    "        node['right'] = get_split(right, n_features)\n",
    "        split(node['right'], max_depth, min_size, n_features, depth+1)"
   ]
  },
  {
   "cell_type": "code",
   "execution_count": 12,
   "metadata": {},
   "outputs": [],
   "source": [
    "#decision tree\n",
    "#we create the root node and then call split() function that calls itself to build out the whole tree\n",
    "def build_tree(train, max_depth, min_size, n_features):\n",
    "    root = get_split(train, n_features)\n",
    "    split(root, max_depth, min_size, n_features, 1)\n",
    "    return root"
   ]
  },
  {
   "cell_type": "code",
   "execution_count": 13,
   "metadata": {},
   "outputs": [],
   "source": [
    "#faire une prediction avec l'arbre de decision\n",
    "def predict(node, row):\n",
    "    if row[node['index']] < node['value']:\n",
    "        if isinstance(node['left'], dict):\n",
    "            return predict(node['left'], row)\n",
    "        else:\n",
    "            return node['left']\n",
    "    else:\n",
    "        if isinstance(node['right'], dict):\n",
    "            return predict(node['right'], row)\n",
    "        else:\n",
    "            return node['right']"
   ]
  },
  {
   "cell_type": "code",
   "execution_count": 14,
   "metadata": {},
   "outputs": [],
   "source": [
    "#creation d'une subsample aleatoir depuis un dataset\n",
    "def subsample(dataset, ratio):\n",
    "    sample = list()\n",
    "    n_sample = round(len(dataset) * ratio)\n",
    "    while len(sample) < n_sample:\n",
    "        index = randrange(len(dataset))\n",
    "        sample.append(dataset[index])\n",
    "    return sample"
   ]
  },
  {
   "cell_type": "code",
   "execution_count": 15,
   "metadata": {},
   "outputs": [],
   "source": [
    "#faire une prediction avec une liste de arbres bagged\n",
    "def bagging_predict(trees, row):\n",
    "    predictions = [predict(tree, row) for tree in trees]\n",
    "    return max(set(predictions), key=predictions.count)"
   ]
  },
  {
   "cell_type": "code",
   "execution_count": 16,
   "metadata": {},
   "outputs": [],
   "source": [
    "# Random Forest Algorithme\n",
    "def random_forest(train, test, max_depth, min_size, sample_size, n_trees, n_features):\n",
    "    trees = list()\n",
    "    for i in range(n_trees):\n",
    "        sample = subsample(train, sample_size)\n",
    "        tree = build_tree(sample, max_depth, min_size, n_features)\n",
    "        trees.append(tree)\n",
    "    predictions = [bagging_predict(trees, row) for row in test]\n",
    "    return(predictions)"
   ]
  },
  {
   "cell_type": "code",
   "execution_count": 17,
   "metadata": {
    "colab": {
     "base_uri": "https://localhost:8080/",
     "height": 134
    },
    "colab_type": "code",
    "id": "IccClQn9Lz7q",
    "outputId": "7e0801de-f596-45ce-c91a-35b95e968f8c"
   },
   "outputs": [
    {
     "name": "stdout",
     "output_type": "stream",
     "text": [
      "################# My Random Forest Classifier Implementation ##############\n"
     ]
    },
    {
     "data": {
      "text/plain": [
       "{'orchard': 0, 'forest': 1, 'water': 2, 'farm': 3, 'grass': 4, 'impervious': 5}"
      ]
     },
     "execution_count": 17,
     "metadata": {},
     "output_type": "execute_result"
    }
   ],
   "source": [
    "print(\"################# My Random Forest Classifier Implementation ##############\")\n",
    "# teste de notre algorithme\n",
    "\n",
    "###################### preparation et chargement du data\n",
    "trainfilename = 'training.csv' #train file\n",
    "testfilename = 'testing.csv'   #test file\n",
    "\n",
    "train_set=load_csv(trainfilename)[1:]\n",
    "for i in range(0, len(train_set[0])-1):\n",
    "  str_column_to_float(train_set, i)\n",
    "\n",
    "test_set=load_csv(testfilename)[1:]\n",
    "for i in range(0, len(test_set[0])-1):\n",
    "  str_column_to_float(test_set, i)\n",
    "\n",
    "str_column_to_int(train_set,test_set, len(train_set[0])-1)\n",
    "\n"
   ]
  },
  {
   "cell_type": "code",
   "execution_count": 18,
   "metadata": {},
   "outputs": [
    {
     "name": "stdout",
     "output_type": "stream",
     "text": [
      "Trees: 1\n",
      "Accuracy:  51.0\n",
      "Trees: 5\n",
      "Accuracy:  59.333333333333336\n",
      "Trees: 20\n",
      "Accuracy:  62.0\n"
     ]
    }
   ],
   "source": [
    "\n",
    "max_depth = 10       #Maximum profondeur pour une arbre\n",
    "min_size = 1          #taille minimal pour une noeud\n",
    "sample_size = 0.1     #pendre 10% samples aleatoirement with replacement dans chaque arbree \n",
    "n_features = int(sqrt(len(train_set[0])-1)) #nombre de features pour creation d'une arbre (Aleatoirement)\n",
    "number_of_trees = [1, 5, 20] # nombre de arbres dans notre foret\n",
    "\n",
    "for n_trees in number_of_trees:\n",
    "    accuracy = evaluate_algorithm(train_set,test_set, random_forest, max_depth, min_size, sample_size, n_trees, n_features)\n",
    "    print('Trees: %d' % n_trees)\n",
    "    print('Accuracy: ',accuracy)"
   ]
  },
  {
   "cell_type": "code",
   "execution_count": null,
   "metadata": {
    "colab": {},
    "colab_type": "code",
    "id": "49mImnB_uUUH"
   },
   "outputs": [],
   "source": []
  }
 ],
 "metadata": {
  "colab": {
   "collapsed_sections": [],
   "name": "RandomF.ipynb",
   "provenance": []
  },
  "kernelspec": {
   "display_name": "Python 3",
   "language": "python",
   "name": "python3"
  },
  "language_info": {
   "codemirror_mode": {
    "name": "ipython",
    "version": 3
   },
   "file_extension": ".py",
   "mimetype": "text/x-python",
   "name": "python",
   "nbconvert_exporter": "python",
   "pygments_lexer": "ipython3",
   "version": "3.8.0"
  }
 },
 "nbformat": 4,
 "nbformat_minor": 1
}
