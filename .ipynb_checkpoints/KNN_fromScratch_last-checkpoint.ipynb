{
 "cells": [
  {
   "cell_type": "code",
   "execution_count": 1,
   "metadata": {},
   "outputs": [],
   "source": [
    "from random import seed\n",
    "from random import randrange\n",
    "from csv import reader\n",
    "from math import sqrt"
   ]
  },
  {
   "cell_type": "code",
   "execution_count": 2,
   "metadata": {},
   "outputs": [],
   "source": [
    "# chargement de fichier CSV\n",
    "def load_csv(filename):\n",
    "    dataset = list()\n",
    "    with open(filename, 'r') as file:\n",
    "        csv_reader = reader(file)\n",
    "        for row in csv_reader:\n",
    "            if not row:\n",
    "                continue\n",
    "            dataset.append(row[::-1])\n",
    "    return dataset"
   ]
  },
  {
   "cell_type": "code",
   "execution_count": 3,
   "metadata": {},
   "outputs": [],
   "source": [
    "# Convertir colonne string en float\n",
    "def str_column_to_float(dataset, column):\n",
    "    for row in dataset:\n",
    "        row[column] = float(row[column].strip())"
   ]
  },
  {
   "cell_type": "code",
   "execution_count": 4,
   "metadata": {},
   "outputs": [],
   "source": [
    "# Convertir colonne string a int\n",
    "def str_column_to_int(dataset,testData, column):\n",
    "  class_values = [row[column] for row in dataset]\n",
    "  unique = set(class_values)\n",
    "  lookup = dict()\n",
    "  for i, value in enumerate(unique):\n",
    "    lookup[value] = i\n",
    "  for row in dataset:\n",
    "    row[column] = lookup[row[column]]\n",
    "  for row in testData:\n",
    "    row[column] = lookup[row[column]]\n",
    "  return lookup"
   ]
  },
  {
   "cell_type": "code",
   "execution_count": 5,
   "metadata": {},
   "outputs": [],
   "source": [
    "#Calcule du pourcentage d'accuracy\n",
    "def accuracy_metric(actual, predicted):\n",
    "    correct = 0\n",
    "    for i in range(len(actual)):\n",
    "        if actual[i] == predicted[i]:\n",
    "            correct += 1\n",
    "    return correct / float(len(actual)) * 100.0"
   ]
  },
  {
   "cell_type": "code",
   "execution_count": 7,
   "metadata": {},
   "outputs": [],
   "source": [
    "# Evaluation d'algorithm\n",
    "def evaluate_algorithm(train_set,test_set, algorithm, *args):\n",
    "  scores = list()\n",
    "  # print(\"Train data size: \",len(train_set))\n",
    "  # print(\"Test data size:\", len(test_set))\n",
    "  predicted = algorithm(train_set, test_set, *args)\n",
    "  # actual = [row[-1] for row in fold]\n",
    "  actual = [row[-1] for row in test_set]\n",
    "  accuracy = accuracy_metric(actual, predicted)\n",
    "  scores.append(accuracy)\n",
    "  return accuracy"
   ]
  },
  {
   "cell_type": "code",
   "execution_count": 8,
   "metadata": {},
   "outputs": [],
   "source": [
    "#Calcule de distance euclidienne entre deux vecteurs\n",
    "def euclidean_distance(row1, row2):\n",
    "    distance = 0.0\n",
    "    for i in range(len(row1)-1):\n",
    "        distance += (row1[i] - row2[i])**2\n",
    "    return sqrt(distance)"
   ]
  },
  {
   "cell_type": "code",
   "execution_count": 10,
   "metadata": {},
   "outputs": [],
   "source": [
    "#location de neighbors les plus similaires\n",
    "def get_neighbors(train, test_row, num_neighbors):\n",
    "    distances = list()\n",
    "    for train_row in train:\n",
    "        dist = euclidean_distance(test_row, train_row)\n",
    "        distances.append((train_row, dist))\n",
    "    distances.sort(key=lambda tup: tup[1])\n",
    "    neighbors = list()\n",
    "    for i in range(num_neighbors):\n",
    "        neighbors.append(distances[i][0])\n",
    "    return neighbors"
   ]
  },
  {
   "cell_type": "code",
   "execution_count": 11,
   "metadata": {},
   "outputs": [],
   "source": [
    "#faire une prediction avec voisinages\n",
    "def predict_classification(train, test_row, num_neighbors):\n",
    "    neighbors = get_neighbors(train, test_row, num_neighbors)\n",
    "    output_values = [row[-1] for row in neighbors]\n",
    "    prediction = max(set(output_values), key=output_values.count)\n",
    "    return prediction"
   ]
  },
  {
   "cell_type": "code",
   "execution_count": 12,
   "metadata": {},
   "outputs": [],
   "source": [
    "# kNN Algorithme\n",
    "def k_nearest_neighbors(train, test, num_neighbors):\n",
    "    predictions = list()\n",
    "    for row in test:\n",
    "        output = predict_classification(train, row, num_neighbors)\n",
    "        predictions.append(output)\n",
    "    return(predictions)"
   ]
  },
  {
   "cell_type": "code",
   "execution_count": 13,
   "metadata": {},
   "outputs": [
    {
     "data": {
      "text/plain": [
       "{'water': 0, 'impervious': 1, 'grass': 2, 'orchard': 3, 'forest': 4, 'farm': 5}"
      ]
     },
     "execution_count": 13,
     "metadata": {},
     "output_type": "execute_result"
    }
   ],
   "source": [
    "trainfilename = 'training.csv' #give train file name\n",
    "testfilename = 'testing.csv'   #give test file names\n",
    "\n",
    "train_set=load_csv(trainfilename)[1:]\n",
    "for i in range(0, len(train_set[0])-1):\n",
    "  str_column_to_float(train_set, i)\n",
    "\n",
    "test_set=load_csv(testfilename)[1:]\n",
    "for i in range(0, len(test_set[0])-1):\n",
    "  str_column_to_float(test_set, i)\n",
    "\n",
    "str_column_to_int(train_set,test_set, len(train_set[0])-1)\n"
   ]
  },
  {
   "cell_type": "code",
   "execution_count": 14,
   "metadata": {},
   "outputs": [
    {
     "name": "stdout",
     "output_type": "stream",
     "text": [
      "Accuracy: 63.667%\n"
     ]
    }
   ],
   "source": [
    "# evaluation de notre algorithm\n",
    "num_neighbors = 9\n",
    "accuracy = evaluate_algorithm(train_set,test_set, k_nearest_neighbors, num_neighbors)\n",
    "print('Accuracy: %.3f%%' % (accuracy))"
   ]
  },
  {
   "cell_type": "code",
   "execution_count": null,
   "metadata": {},
   "outputs": [],
   "source": []
  },
  {
   "cell_type": "code",
   "execution_count": null,
   "metadata": {},
   "outputs": [],
   "source": []
  },
  {
   "cell_type": "code",
   "execution_count": null,
   "metadata": {},
   "outputs": [],
   "source": []
  }
 ],
 "metadata": {
  "kernelspec": {
   "display_name": "Python 3.8.0 32-bit",
   "language": "python",
   "name": "python38032bit4007d739456f4d199eafb37ac8469f35"
  },
  "language_info": {
   "codemirror_mode": {
    "name": "ipython",
    "version": 3
   },
   "file_extension": ".py",
   "mimetype": "text/x-python",
   "name": "python",
   "nbconvert_exporter": "python",
   "pygments_lexer": "ipython3",
   "version": "3.8.0"
  }
 },
 "nbformat": 4,
 "nbformat_minor": 4
}
