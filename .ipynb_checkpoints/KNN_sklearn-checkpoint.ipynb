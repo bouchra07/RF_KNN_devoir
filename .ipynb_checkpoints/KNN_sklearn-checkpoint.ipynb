{
 "cells": [
  {
   "cell_type": "code",
   "execution_count": 4,
   "metadata": {},
   "outputs": [],
   "source": [
    "import itertools\n",
    "import numpy as np\n",
    "import matplotlib.pyplot as plt\n",
    "from matplotlib.ticker import NullFormatter\n",
    "import pandas as pd\n",
    "import numpy as np\n",
    "import matplotlib.ticker as ticker\n",
    "from sklearn import preprocessing\n",
    "%matplotlib inline"
   ]
  },
  {
   "cell_type": "code",
   "execution_count": 5,
   "metadata": {},
   "outputs": [
    {
     "data": {
      "text/html": [
       "<div>\n",
       "<style scoped>\n",
       "    .dataframe tbody tr th:only-of-type {\n",
       "        vertical-align: middle;\n",
       "    }\n",
       "\n",
       "    .dataframe tbody tr th {\n",
       "        vertical-align: top;\n",
       "    }\n",
       "\n",
       "    .dataframe thead th {\n",
       "        text-align: right;\n",
       "    }\n",
       "</style>\n",
       "<table border=\"1\" class=\"dataframe\">\n",
       "  <thead>\n",
       "    <tr style=\"text-align: right;\">\n",
       "      <th></th>\n",
       "      <th>class</th>\n",
       "      <th>max_ndvi</th>\n",
       "      <th>20150720_N</th>\n",
       "      <th>20150602_N</th>\n",
       "      <th>20150517_N</th>\n",
       "      <th>20150501_N</th>\n",
       "      <th>20150415_N</th>\n",
       "      <th>20150330_N</th>\n",
       "      <th>20150314_N</th>\n",
       "      <th>20150226_N</th>\n",
       "      <th>...</th>\n",
       "      <th>20140610_N</th>\n",
       "      <th>20140525_N</th>\n",
       "      <th>20140509_N</th>\n",
       "      <th>20140423_N</th>\n",
       "      <th>20140407_N</th>\n",
       "      <th>20140322_N</th>\n",
       "      <th>20140218_N</th>\n",
       "      <th>20140202_N</th>\n",
       "      <th>20140117_N</th>\n",
       "      <th>20140101_N</th>\n",
       "    </tr>\n",
       "  </thead>\n",
       "  <tbody>\n",
       "    <tr>\n",
       "      <th>0</th>\n",
       "      <td>water</td>\n",
       "      <td>997.904</td>\n",
       "      <td>637.5950</td>\n",
       "      <td>658.668</td>\n",
       "      <td>-1882.030</td>\n",
       "      <td>-1924.36</td>\n",
       "      <td>997.904</td>\n",
       "      <td>-1739.990</td>\n",
       "      <td>630.087</td>\n",
       "      <td>-1628.240</td>\n",
       "      <td>...</td>\n",
       "      <td>-921.193</td>\n",
       "      <td>-1043.160</td>\n",
       "      <td>-1942.490</td>\n",
       "      <td>267.138</td>\n",
       "      <td>366.608</td>\n",
       "      <td>452.238</td>\n",
       "      <td>211.328</td>\n",
       "      <td>-2203.02</td>\n",
       "      <td>-1180.190</td>\n",
       "      <td>433.906</td>\n",
       "    </tr>\n",
       "    <tr>\n",
       "      <th>1</th>\n",
       "      <td>water</td>\n",
       "      <td>914.198</td>\n",
       "      <td>634.2400</td>\n",
       "      <td>593.705</td>\n",
       "      <td>-1625.790</td>\n",
       "      <td>-1672.32</td>\n",
       "      <td>914.198</td>\n",
       "      <td>-692.386</td>\n",
       "      <td>707.626</td>\n",
       "      <td>-1670.590</td>\n",
       "      <td>...</td>\n",
       "      <td>-954.719</td>\n",
       "      <td>-933.934</td>\n",
       "      <td>-625.385</td>\n",
       "      <td>120.059</td>\n",
       "      <td>364.858</td>\n",
       "      <td>476.972</td>\n",
       "      <td>220.878</td>\n",
       "      <td>-2250.00</td>\n",
       "      <td>-1360.560</td>\n",
       "      <td>524.075</td>\n",
       "    </tr>\n",
       "    <tr>\n",
       "      <th>2</th>\n",
       "      <td>water</td>\n",
       "      <td>3800.810</td>\n",
       "      <td>1671.3400</td>\n",
       "      <td>1206.880</td>\n",
       "      <td>449.735</td>\n",
       "      <td>1071.21</td>\n",
       "      <td>546.371</td>\n",
       "      <td>1077.840</td>\n",
       "      <td>214.564</td>\n",
       "      <td>849.599</td>\n",
       "      <td>...</td>\n",
       "      <td>1562.210</td>\n",
       "      <td>1566.160</td>\n",
       "      <td>2208.440</td>\n",
       "      <td>1056.600</td>\n",
       "      <td>385.203</td>\n",
       "      <td>300.560</td>\n",
       "      <td>293.730</td>\n",
       "      <td>2762.57</td>\n",
       "      <td>150.931</td>\n",
       "      <td>3800.810</td>\n",
       "    </tr>\n",
       "    <tr>\n",
       "      <th>3</th>\n",
       "      <td>water</td>\n",
       "      <td>952.178</td>\n",
       "      <td>58.0174</td>\n",
       "      <td>-1599.160</td>\n",
       "      <td>210.714</td>\n",
       "      <td>-1052.63</td>\n",
       "      <td>578.807</td>\n",
       "      <td>-1564.630</td>\n",
       "      <td>-858.390</td>\n",
       "      <td>729.790</td>\n",
       "      <td>...</td>\n",
       "      <td>-1025.880</td>\n",
       "      <td>368.622</td>\n",
       "      <td>-1786.950</td>\n",
       "      <td>-1227.800</td>\n",
       "      <td>304.621</td>\n",
       "      <td>291.336</td>\n",
       "      <td>369.214</td>\n",
       "      <td>-2202.12</td>\n",
       "      <td>600.359</td>\n",
       "      <td>-1343.550</td>\n",
       "    </tr>\n",
       "    <tr>\n",
       "      <th>4</th>\n",
       "      <td>water</td>\n",
       "      <td>1232.120</td>\n",
       "      <td>72.5180</td>\n",
       "      <td>-1220.880</td>\n",
       "      <td>380.436</td>\n",
       "      <td>-1256.93</td>\n",
       "      <td>515.805</td>\n",
       "      <td>-1413.180</td>\n",
       "      <td>-802.942</td>\n",
       "      <td>683.254</td>\n",
       "      <td>...</td>\n",
       "      <td>-1813.950</td>\n",
       "      <td>155.624</td>\n",
       "      <td>-1189.710</td>\n",
       "      <td>-924.073</td>\n",
       "      <td>432.150</td>\n",
       "      <td>282.833</td>\n",
       "      <td>298.320</td>\n",
       "      <td>-2197.36</td>\n",
       "      <td>626.379</td>\n",
       "      <td>-826.727</td>\n",
       "    </tr>\n",
       "  </tbody>\n",
       "</table>\n",
       "<p>5 rows × 29 columns</p>\n",
       "</div>"
      ],
      "text/plain": [
       "   class  max_ndvi  20150720_N  20150602_N  20150517_N  20150501_N  \\\n",
       "0  water   997.904    637.5950     658.668   -1882.030    -1924.36   \n",
       "1  water   914.198    634.2400     593.705   -1625.790    -1672.32   \n",
       "2  water  3800.810   1671.3400    1206.880     449.735     1071.21   \n",
       "3  water   952.178     58.0174   -1599.160     210.714    -1052.63   \n",
       "4  water  1232.120     72.5180   -1220.880     380.436    -1256.93   \n",
       "\n",
       "   20150415_N  20150330_N  20150314_N  20150226_N  ...  20140610_N  \\\n",
       "0     997.904   -1739.990     630.087   -1628.240  ...    -921.193   \n",
       "1     914.198    -692.386     707.626   -1670.590  ...    -954.719   \n",
       "2     546.371    1077.840     214.564     849.599  ...    1562.210   \n",
       "3     578.807   -1564.630    -858.390     729.790  ...   -1025.880   \n",
       "4     515.805   -1413.180    -802.942     683.254  ...   -1813.950   \n",
       "\n",
       "   20140525_N  20140509_N  20140423_N  20140407_N  20140322_N  20140218_N  \\\n",
       "0   -1043.160   -1942.490     267.138     366.608     452.238     211.328   \n",
       "1    -933.934    -625.385     120.059     364.858     476.972     220.878   \n",
       "2    1566.160    2208.440    1056.600     385.203     300.560     293.730   \n",
       "3     368.622   -1786.950   -1227.800     304.621     291.336     369.214   \n",
       "4     155.624   -1189.710    -924.073     432.150     282.833     298.320   \n",
       "\n",
       "   20140202_N  20140117_N  20140101_N  \n",
       "0    -2203.02   -1180.190     433.906  \n",
       "1    -2250.00   -1360.560     524.075  \n",
       "2     2762.57     150.931    3800.810  \n",
       "3    -2202.12     600.359   -1343.550  \n",
       "4    -2197.36     626.379    -826.727  \n",
       "\n",
       "[5 rows x 29 columns]"
      ]
     },
     "execution_count": 5,
     "metadata": {},
     "output_type": "execute_result"
    }
   ],
   "source": [
    "df = pd.read_csv('training.csv')\n",
    "df_test = pd.read_csv('testing.csv')\n",
    "df.head()"
   ]
  },
  {
   "cell_type": "code",
   "execution_count": 6,
   "metadata": {},
   "outputs": [
    {
     "data": {
      "text/html": [
       "<div>\n",
       "<style scoped>\n",
       "    .dataframe tbody tr th:only-of-type {\n",
       "        vertical-align: middle;\n",
       "    }\n",
       "\n",
       "    .dataframe tbody tr th {\n",
       "        vertical-align: top;\n",
       "    }\n",
       "\n",
       "    .dataframe thead th {\n",
       "        text-align: right;\n",
       "    }\n",
       "</style>\n",
       "<table border=\"1\" class=\"dataframe\">\n",
       "  <thead>\n",
       "    <tr style=\"text-align: right;\">\n",
       "      <th></th>\n",
       "      <th>class</th>\n",
       "      <th>max_ndvi</th>\n",
       "      <th>20150720_N</th>\n",
       "      <th>20150602_N</th>\n",
       "      <th>20150517_N</th>\n",
       "      <th>20150501_N</th>\n",
       "      <th>20150415_N</th>\n",
       "      <th>20150330_N</th>\n",
       "      <th>20150314_N</th>\n",
       "      <th>20150226_N</th>\n",
       "      <th>...</th>\n",
       "      <th>20140610_N</th>\n",
       "      <th>20140525_N</th>\n",
       "      <th>20140509_N</th>\n",
       "      <th>20140423_N</th>\n",
       "      <th>20140407_N</th>\n",
       "      <th>20140322_N</th>\n",
       "      <th>20140218_N</th>\n",
       "      <th>20140202_N</th>\n",
       "      <th>20140117_N</th>\n",
       "      <th>20140101_N</th>\n",
       "    </tr>\n",
       "  </thead>\n",
       "  <tbody>\n",
       "    <tr>\n",
       "      <th>0</th>\n",
       "      <td>water</td>\n",
       "      <td>2750.11</td>\n",
       "      <td>1361.89</td>\n",
       "      <td>-247.508</td>\n",
       "      <td>-521.17300</td>\n",
       "      <td>-1123.910</td>\n",
       "      <td>2653.08</td>\n",
       "      <td>-264.4140</td>\n",
       "      <td>-456.4660</td>\n",
       "      <td>2080.85</td>\n",
       "      <td>...</td>\n",
       "      <td>2380.00</td>\n",
       "      <td>1078.400</td>\n",
       "      <td>1778.030</td>\n",
       "      <td>2673.610</td>\n",
       "      <td>-178.9710</td>\n",
       "      <td>2238.580</td>\n",
       "      <td>1000.760</td>\n",
       "      <td>-81.5418</td>\n",
       "      <td>1146.260</td>\n",
       "      <td>-1566.490</td>\n",
       "    </tr>\n",
       "    <tr>\n",
       "      <th>1</th>\n",
       "      <td>water</td>\n",
       "      <td>2646.25</td>\n",
       "      <td>1760.85</td>\n",
       "      <td>481.100</td>\n",
       "      <td>6.26571</td>\n",
       "      <td>398.950</td>\n",
       "      <td>2646.25</td>\n",
       "      <td>550.9820</td>\n",
       "      <td>92.6923</td>\n",
       "      <td>2188.03</td>\n",
       "      <td>...</td>\n",
       "      <td>2009.69</td>\n",
       "      <td>1083.700</td>\n",
       "      <td>2029.520</td>\n",
       "      <td>1033.900</td>\n",
       "      <td>-19.6148</td>\n",
       "      <td>2183.660</td>\n",
       "      <td>927.882</td>\n",
       "      <td>668.7500</td>\n",
       "      <td>1519.740</td>\n",
       "      <td>-568.973</td>\n",
       "    </tr>\n",
       "    <tr>\n",
       "      <th>2</th>\n",
       "      <td>water</td>\n",
       "      <td>3509.62</td>\n",
       "      <td>3509.62</td>\n",
       "      <td>-241.320</td>\n",
       "      <td>-1239.32000</td>\n",
       "      <td>-330.388</td>\n",
       "      <td>1257.19</td>\n",
       "      <td>-175.1710</td>\n",
       "      <td>-294.5000</td>\n",
       "      <td>-1315.06</td>\n",
       "      <td>...</td>\n",
       "      <td>1838.51</td>\n",
       "      <td>1538.750</td>\n",
       "      <td>846.783</td>\n",
       "      <td>965.654</td>\n",
       "      <td>-468.0240</td>\n",
       "      <td>-222.312</td>\n",
       "      <td>1124.250</td>\n",
       "      <td>1132.9000</td>\n",
       "      <td>594.059</td>\n",
       "      <td>-993.658</td>\n",
       "    </tr>\n",
       "    <tr>\n",
       "      <th>3</th>\n",
       "      <td>water</td>\n",
       "      <td>2820.47</td>\n",
       "      <td>2138.69</td>\n",
       "      <td>-126.186</td>\n",
       "      <td>-522.28100</td>\n",
       "      <td>-741.163</td>\n",
       "      <td>2334.70</td>\n",
       "      <td>-207.4360</td>\n",
       "      <td>-76.9686</td>\n",
       "      <td>2820.47</td>\n",
       "      <td>...</td>\n",
       "      <td>2098.55</td>\n",
       "      <td>984.456</td>\n",
       "      <td>2239.330</td>\n",
       "      <td>593.874</td>\n",
       "      <td>1540.8800</td>\n",
       "      <td>2398.420</td>\n",
       "      <td>846.470</td>\n",
       "      <td>572.3080</td>\n",
       "      <td>1311.610</td>\n",
       "      <td>-1396.500</td>\n",
       "    </tr>\n",
       "    <tr>\n",
       "      <th>4</th>\n",
       "      <td>water</td>\n",
       "      <td>2684.13</td>\n",
       "      <td>1995.80</td>\n",
       "      <td>-1029.570</td>\n",
       "      <td>1713.62000</td>\n",
       "      <td>-472.258</td>\n",
       "      <td>2526.99</td>\n",
       "      <td>-91.7429</td>\n",
       "      <td>-146.2260</td>\n",
       "      <td>2487.71</td>\n",
       "      <td>...</td>\n",
       "      <td>2684.13</td>\n",
       "      <td>1432.150</td>\n",
       "      <td>2174.890</td>\n",
       "      <td>1321.690</td>\n",
       "      <td>1351.5800</td>\n",
       "      <td>2381.950</td>\n",
       "      <td>870.890</td>\n",
       "      <td>1174.3300</td>\n",
       "      <td>991.427</td>\n",
       "      <td>-185.322</td>\n",
       "    </tr>\n",
       "  </tbody>\n",
       "</table>\n",
       "<p>5 rows × 29 columns</p>\n",
       "</div>"
      ],
      "text/plain": [
       "   class  max_ndvi  20150720_N  20150602_N  20150517_N  20150501_N  \\\n",
       "0  water   2750.11     1361.89    -247.508  -521.17300   -1123.910   \n",
       "1  water   2646.25     1760.85     481.100     6.26571     398.950   \n",
       "2  water   3509.62     3509.62    -241.320 -1239.32000    -330.388   \n",
       "3  water   2820.47     2138.69    -126.186  -522.28100    -741.163   \n",
       "4  water   2684.13     1995.80   -1029.570  1713.62000    -472.258   \n",
       "\n",
       "   20150415_N  20150330_N  20150314_N  20150226_N  ...  20140610_N  \\\n",
       "0     2653.08   -264.4140   -456.4660     2080.85  ...     2380.00   \n",
       "1     2646.25    550.9820     92.6923     2188.03  ...     2009.69   \n",
       "2     1257.19   -175.1710   -294.5000    -1315.06  ...     1838.51   \n",
       "3     2334.70   -207.4360    -76.9686     2820.47  ...     2098.55   \n",
       "4     2526.99    -91.7429   -146.2260     2487.71  ...     2684.13   \n",
       "\n",
       "   20140525_N  20140509_N  20140423_N  20140407_N  20140322_N  20140218_N  \\\n",
       "0    1078.400    1778.030    2673.610   -178.9710    2238.580    1000.760   \n",
       "1    1083.700    2029.520    1033.900    -19.6148    2183.660     927.882   \n",
       "2    1538.750     846.783     965.654   -468.0240    -222.312    1124.250   \n",
       "3     984.456    2239.330     593.874   1540.8800    2398.420     846.470   \n",
       "4    1432.150    2174.890    1321.690   1351.5800    2381.950     870.890   \n",
       "\n",
       "   20140202_N  20140117_N  20140101_N  \n",
       "0    -81.5418    1146.260   -1566.490  \n",
       "1    668.7500    1519.740    -568.973  \n",
       "2   1132.9000     594.059    -993.658  \n",
       "3    572.3080    1311.610   -1396.500  \n",
       "4   1174.3300     991.427    -185.322  \n",
       "\n",
       "[5 rows x 29 columns]"
      ]
     },
     "execution_count": 6,
     "metadata": {},
     "output_type": "execute_result"
    }
   ],
   "source": [
    "df_test.head()"
   ]
  },
  {
   "cell_type": "code",
   "execution_count": 7,
   "metadata": {},
   "outputs": [
    {
     "data": {
      "text/plain": [
       "forest        7431\n",
       "farm          1441\n",
       "impervious     969\n",
       "grass          446\n",
       "water          205\n",
       "orchard         53\n",
       "Name: class, dtype: int64"
      ]
     },
     "execution_count": 7,
     "metadata": {},
     "output_type": "execute_result"
    }
   ],
   "source": [
    "df['class'].value_counts()"
   ]
  },
  {
   "cell_type": "code",
   "execution_count": 8,
   "metadata": {},
   "outputs": [
    {
     "data": {
      "text/plain": [
       "array([[<matplotlib.axes._subplots.AxesSubplot object at 0x1009CE80>]],\n",
       "      dtype=object)"
      ]
     },
     "execution_count": 8,
     "metadata": {},
     "output_type": "execute_result"
    },
    {
     "data": {
      "image/png": "[encoded data removed]",
      "text/plain": [
       "<Figure size 432x288 with 1 Axes>"
      ]
     },
     "metadata": {
      "needs_background": "light"
     },
     "output_type": "display_data"
    }
   ],
   "source": [
    "df.hist(column='max_ndvi', bins=50)"
   ]
  },
  {
   "cell_type": "code",
   "execution_count": 9,
   "metadata": {},
   "outputs": [
    {
     "data": {
      "text/plain": [
       "Index(['class', 'max_ndvi', '20150720_N', '20150602_N', '20150517_N',\n",
       "       '20150501_N', '20150415_N', '20150330_N', '20150314_N', '20150226_N',\n",
       "       '20150210_N', '20150125_N', '20150109_N', '20141117_N', '20141101_N',\n",
       "       '20141016_N', '20140930_N', '20140813_N', '20140626_N', '20140610_N',\n",
       "       '20140525_N', '20140509_N', '20140423_N', '20140407_N', '20140322_N',\n",
       "       '20140218_N', '20140202_N', '20140117_N', '20140101_N'],\n",
       "      dtype='object')"
      ]
     },
     "execution_count": 9,
     "metadata": {},
     "output_type": "execute_result"
    }
   ],
   "source": [
    "df.columns"
   ]
  },
  {
   "cell_type": "code",
   "execution_count": 10,
   "metadata": {},
   "outputs": [
    {
     "data": {
      "text/plain": [
       "array([[  997.904 ,   637.595 ,   658.668 , -1882.03  , -1924.36  ,\n",
       "          997.904 , -1739.99  ,   630.087 , -1628.24  , -1325.64  ,\n",
       "         -944.084 ,   277.107 ,  -206.799 ,   536.441 ,   749.348 ,\n",
       "         -482.993 ,   492.001 ,   655.77  ,  -921.193 , -1043.16  ,\n",
       "        -1942.49  ,   267.138 ,   366.608 ,   452.238 ,   211.328 ,\n",
       "        -2203.02  , -1180.19  ,   433.906 ],\n",
       "       [  914.198 ,   634.24  ,   593.705 , -1625.79  , -1672.32  ,\n",
       "          914.198 ,  -692.386 ,   707.626 , -1670.59  , -1408.64  ,\n",
       "         -989.285 ,   214.2   ,   -75.5979,   893.439 ,   401.281 ,\n",
       "         -389.933 ,   394.053 ,   666.603 ,  -954.719 ,  -933.934 ,\n",
       "         -625.385 ,   120.059 ,   364.858 ,   476.972 ,   220.878 ,\n",
       "        -2250.    , -1360.56  ,   524.075 ],\n",
       "       [ 3800.81  ,  1671.34  ,  1206.88  ,   449.735 ,  1071.21  ,\n",
       "          546.371 ,  1077.84  ,   214.564 ,   849.599 ,  1283.63  ,\n",
       "         1304.91  ,   542.1   ,   922.619 ,   889.774 ,   836.292 ,\n",
       "         1824.16  ,  1670.27  ,  2307.22  ,  1562.21  ,  1566.16  ,\n",
       "         2208.44  ,  1056.6   ,   385.203 ,   300.56  ,   293.73  ,\n",
       "         2762.57  ,   150.931 ,  3800.81  ],\n",
       "       [  952.178 ,    58.0174, -1599.16  ,   210.714 , -1052.63  ,\n",
       "          578.807 , -1564.63  ,  -858.39  ,   729.79  , -3162.14  ,\n",
       "        -1521.68  ,   433.396 ,   228.153 ,   555.359 ,   530.936 ,\n",
       "          952.178 , -1074.76  ,   545.761 , -1025.88  ,   368.622 ,\n",
       "        -1786.95  , -1227.8   ,   304.621 ,   291.336 ,   369.214 ,\n",
       "        -2202.12  ,   600.359 , -1343.55  ],\n",
       "       [ 1232.12  ,    72.518 , -1220.88  ,   380.436 , -1256.93  ,\n",
       "          515.805 , -1413.18  ,  -802.942 ,   683.254 , -2829.4   ,\n",
       "        -1267.54  ,   461.025 ,   317.521 ,   404.898 ,   563.716 ,\n",
       "         1232.12  ,  -117.779 ,   682.559 , -1813.95  ,   155.624 ,\n",
       "        -1189.71  ,  -924.073 ,   432.15  ,   282.833 ,   298.32  ,\n",
       "        -2197.36  ,   626.379 ,  -826.727 ]])"
      ]
     },
     "execution_count": 10,
     "metadata": {},
     "output_type": "execute_result"
    }
   ],
   "source": [
    "X = df[['max_ndvi', '20150720_N', '20150602_N', '20150517_N',\n",
    "       '20150501_N', '20150415_N', '20150330_N', '20150314_N', '20150226_N',\n",
    "       '20150210_N', '20150125_N', '20150109_N', '20141117_N', '20141101_N',\n",
    "       '20141016_N', '20140930_N', '20140813_N', '20140626_N', '20140610_N',\n",
    "       '20140525_N', '20140509_N', '20140423_N', '20140407_N', '20140322_N',\n",
    "       '20140218_N', '20140202_N', '20140117_N', '20140101_N']] .values  #.astype(float)\n",
    "X[0:5]"
   ]
  },
  {
   "cell_type": "code",
   "execution_count": 11,
   "metadata": {},
   "outputs": [
    {
     "data": {
      "text/plain": [
       "array([[ 2750.11   ,  1361.89   ,  -247.508  ,  -521.173  , -1123.91   ,\n",
       "         2653.08   ,  -264.414  ,  -456.466  ,  2080.85   , -2041.43   ,\n",
       "        -2184.35   ,  -259.612  ,   989.296  ,  2750.11   ,  1256.31   ,\n",
       "          228.208  ,  1539.2    ,  2081.94   ,  2380.     ,  1078.4    ,\n",
       "         1778.03   ,  2673.61   ,  -178.971  ,  2238.58   ,  1000.76   ,\n",
       "          -81.5418 ,  1146.26   , -1566.49   ],\n",
       "       [ 2646.25   ,  1760.85   ,   481.1    ,     6.26571,   398.95   ,\n",
       "         2646.25   ,   550.982  ,    92.6923 ,  2188.03   , -1049.05   ,\n",
       "         -112.508  ,   867.447  ,   904.929  ,  2488.24   ,  1339.45   ,\n",
       "          293.407  ,  1554.05   ,  2178.55   ,  2009.69   ,  1083.7    ,\n",
       "         2029.52   ,  1033.9    ,   -19.6148 ,  2183.66   ,   927.882  ,\n",
       "          668.75   ,  1519.74   ,  -568.973  ],\n",
       "       [ 3509.62   ,  3509.62   ,  -241.32   , -1239.32   ,  -330.388  ,\n",
       "         1257.19   ,  -175.171  ,  -294.5    , -1315.06   ,  2486.5    ,\n",
       "        -1304.71   ,   488.336  ,  1231.16   ,  3203.05   ,  1231.85   ,\n",
       "          461.077  ,  1653.78   ,  2524.02   ,  1838.51   ,  1538.75   ,\n",
       "          846.783  ,   965.654  ,  -468.024  ,  -222.312  ,  1124.25   ,\n",
       "         1132.9    ,   594.059  ,  -993.658  ],\n",
       "       [ 2820.47   ,  2138.69   ,  -126.186  ,  -522.281  ,  -741.163  ,\n",
       "         2334.7    ,  -207.436  ,   -76.9686 ,  2820.47   , -1427.56   ,\n",
       "        -1483.71   ,   485.017  ,   867.671  ,  2222.35   ,  1430.35   ,\n",
       "          239.045  ,  1575.75   ,  2195.57   ,  2098.55   ,   984.456  ,\n",
       "         2239.33   ,   593.874  ,  1540.88   ,  2398.42   ,   846.47   ,\n",
       "          572.308  ,  1311.61   , -1396.5    ],\n",
       "       [ 2684.13   ,  1995.8    , -1029.57   ,  1713.62   ,  -472.258  ,\n",
       "         2526.99   ,   -91.7429 ,  -146.226  ,  2487.71   ,  1185.19   ,\n",
       "        -1001.7    ,   631.97   ,  1198.64   ,  2617.72   ,  1303.08   ,\n",
       "          211.586  ,  1504.04   ,  2560.82   ,  2684.13   ,  1432.15   ,\n",
       "         2174.89   ,  1321.69   ,  1351.58   ,  2381.95   ,   870.89   ,\n",
       "         1174.33   ,   991.427  ,  -185.322  ]])"
      ]
     },
     "execution_count": 11,
     "metadata": {},
     "output_type": "execute_result"
    }
   ],
   "source": [
    "X_test = df_test[['max_ndvi', '20150720_N', '20150602_N', '20150517_N',\n",
    "       '20150501_N', '20150415_N', '20150330_N', '20150314_N', '20150226_N',\n",
    "       '20150210_N', '20150125_N', '20150109_N', '20141117_N', '20141101_N',\n",
    "       '20141016_N', '20140930_N', '20140813_N', '20140626_N', '20140610_N',\n",
    "       '20140525_N', '20140509_N', '20140423_N', '20140407_N', '20140322_N',\n",
    "       '20140218_N', '20140202_N', '20140117_N', '20140101_N']] .values  #.astype(float)\n",
    "X_test[0:5]"
   ]
  },
  {
   "cell_type": "code",
   "execution_count": 12,
   "metadata": {},
   "outputs": [],
   "source": [
    "y=df['class']"
   ]
  },
  {
   "cell_type": "code",
   "execution_count": 13,
   "metadata": {},
   "outputs": [],
   "source": [
    "y_test = df_test['class']"
   ]
  },
  {
   "cell_type": "code",
   "execution_count": 14,
   "metadata": {},
   "outputs": [],
   "source": [
    "y.replace({\"forest\":0,\"farm\":1,\"impervious\":2,\"grass\":3,\"water\":4,\"orchard\":5},inplace=True)"
   ]
  },
  {
   "cell_type": "code",
   "execution_count": 15,
   "metadata": {},
   "outputs": [],
   "source": [
    "y_test.replace({\"forest\":0,\"farm\":1,\"impervious\":2,\"grass\":3,\"water\":4,\"orchard\":5},inplace=True)"
   ]
  },
  {
   "cell_type": "code",
   "execution_count": 16,
   "metadata": {},
   "outputs": [
    {
     "data": {
      "text/plain": [
       "array([4, 4, 4, 4, 4, 0, 4], dtype=int64)"
      ]
     },
     "execution_count": 16,
     "metadata": {},
     "output_type": "execute_result"
    }
   ],
   "source": [
    "y=df['class'].values\n",
    "y[0:7]"
   ]
  },
  {
   "cell_type": "code",
   "execution_count": 17,
   "metadata": {},
   "outputs": [
    {
     "data": {
      "text/plain": [
       "array([4, 4, 4, 4, 4, 4, 4], dtype=int64)"
      ]
     },
     "execution_count": 17,
     "metadata": {},
     "output_type": "execute_result"
    }
   ],
   "source": [
    "y_test=df_test['class'].values\n",
    "y_test[0:7]"
   ]
  },
  {
   "cell_type": "code",
   "execution_count": null,
   "metadata": {},
   "outputs": [],
   "source": []
  },
  {
   "cell_type": "code",
   "execution_count": null,
   "metadata": {},
   "outputs": [],
   "source": []
  },
  {
   "cell_type": "code",
   "execution_count": 18,
   "metadata": {},
   "outputs": [
    {
     "data": {
      "text/plain": [
       "(300, 28)"
      ]
     },
     "execution_count": 18,
     "metadata": {},
     "output_type": "execute_result"
    }
   ],
   "source": [
    "X_test.shape"
   ]
  },
  {
   "cell_type": "code",
   "execution_count": 19,
   "metadata": {},
   "outputs": [],
   "source": [
    "X_train = X"
   ]
  },
  {
   "cell_type": "code",
   "execution_count": 20,
   "metadata": {},
   "outputs": [],
   "source": [
    "y_train =y"
   ]
  },
  {
   "cell_type": "code",
   "execution_count": 21,
   "metadata": {},
   "outputs": [
    {
     "name": "stdout",
     "output_type": "stream",
     "text": [
      "Train set: (10545, 28) (10545,)\n",
      "Test set: (300, 28) (300,)\n"
     ]
    }
   ],
   "source": [
    "\n",
    "print ('Train set:', X_train.shape,  y_train.shape)\n",
    "print ('Test set:', X_test.shape,  y_test.shape)"
   ]
  },
  {
   "cell_type": "code",
   "execution_count": 22,
   "metadata": {},
   "outputs": [],
   "source": [
    "from sklearn.neighbors import KNeighborsClassifier"
   ]
  },
  {
   "cell_type": "code",
   "execution_count": 23,
   "metadata": {},
   "outputs": [
    {
     "data": {
      "text/plain": [
       "KNeighborsClassifier(algorithm='auto', leaf_size=30, metric='minkowski',\n",
       "                     metric_params=None, n_jobs=None, n_neighbors=7, p=2,\n",
       "                     weights='uniform')"
      ]
     },
     "execution_count": 23,
     "metadata": {},
     "output_type": "execute_result"
    }
   ],
   "source": [
    "k = 7\n",
    "#Train Model and Predict  \n",
    "neigh = KNeighborsClassifier(n_neighbors = k).fit(X_train,y_train)\n",
    "neigh"
   ]
  },
  {
   "cell_type": "code",
   "execution_count": 24,
   "metadata": {},
   "outputs": [
    {
     "data": {
      "text/plain": [
       "array([2, 2, 4, 2, 2], dtype=int64)"
      ]
     },
     "execution_count": 24,
     "metadata": {},
     "output_type": "execute_result"
    }
   ],
   "source": [
    "yhat = neigh.predict(X_test)\n",
    "yhat[0:5]"
   ]
  },
  {
   "cell_type": "code",
   "execution_count": 25,
   "metadata": {},
   "outputs": [
    {
     "name": "stdout",
     "output_type": "stream",
     "text": [
      "Test set Accuracy:  0.6233333333333333\n"
     ]
    }
   ],
   "source": [
    "from sklearn import metrics\n",
    "print(\"Test set Accuracy: \", metrics.accuracy_score(y_test, yhat))"
   ]
  },
  {
   "cell_type": "code",
   "execution_count": 26,
   "metadata": {},
   "outputs": [
    {
     "data": {
      "text/plain": [
       "array([0.58666667, 0.53666667, 0.60333333, 0.60666667, 0.62      ,\n",
       "       0.61      , 0.62333333, 0.61333333, 0.63      ])"
      ]
     },
     "execution_count": 26,
     "metadata": {},
     "output_type": "execute_result"
    }
   ],
   "source": [
    "Ks = 10\n",
    "mean_acc = np.zeros((Ks-1))\n",
    "std_acc = np.zeros((Ks-1))\n",
    "ConfustionMx = [];\n",
    "for n in range(1,Ks):\n",
    "    \n",
    "    #Train Model and Predict  \n",
    "    neigh = KNeighborsClassifier(n_neighbors = n).fit(X_train,y_train)\n",
    "    yhat=neigh.predict(X_test)\n",
    "    mean_acc[n-1] = metrics.accuracy_score(y_test, yhat)\n",
    "\n",
    "    \n",
    "    std_acc[n-1]=np.std(yhat==y_test)/np.sqrt(yhat.shape[0])\n",
    "\n",
    "mean_acc"
   ]
  },
  {
   "cell_type": "code",
   "execution_count": 27,
   "metadata": {},
   "outputs": [
    {
     "data": {
      "image/png": "[encoded data removed]",
      "text/plain": [
       "<Figure size 432x288 with 1 Axes>"
      ]
     },
     "metadata": {
      "needs_background": "light"
     },
     "output_type": "display_data"
    }
   ],
   "source": [
    "plt.plot(range(1,Ks),mean_acc,'g')\n",
    "plt.fill_between(range(1,Ks),mean_acc - 1 * std_acc,mean_acc + 1 * std_acc, alpha=0.10)\n",
    "plt.legend(('Accuracy ', '+/- 3xstd'))\n",
    "plt.ylabel('Accuracy ')\n",
    "plt.xlabel('Number of Nabors (K)')\n",
    "plt.tight_layout()\n",
    "plt.show()"
   ]
  },
  {
   "cell_type": "code",
   "execution_count": 28,
   "metadata": {},
   "outputs": [
    {
     "name": "stdout",
     "output_type": "stream",
     "text": [
      "The best accuracy was with 0.63 with k= 9\n"
     ]
    }
   ],
   "source": [
    "print( \"The best accuracy was with\", mean_acc.max(), \"with k=\", mean_acc.argmax()+1) "
   ]
  },
  {
   "cell_type": "code",
   "execution_count": null,
   "metadata": {},
   "outputs": [],
   "source": []
  },
  {
   "cell_type": "code",
   "execution_count": null,
   "metadata": {},
   "outputs": [],
   "source": []
  }
 ],
 "metadata": {
  "kernelspec": {
   "display_name": "Python 3.8.0 32-bit",
   "language": "python",
   "name": "python38032bit4007d739456f4d199eafb37ac8469f35"
  },
  "language_info": {
   "codemirror_mode": {
    "name": "ipython",
    "version": 3
   },
   "file_extension": ".py",
   "mimetype": "text/x-python",
   "name": "python",
   "nbconvert_exporter": "python",
   "pygments_lexer": "ipython3",
   "version": "3.8.0"
  }
 },
 "nbformat": 4,
 "nbformat_minor": 4
}
